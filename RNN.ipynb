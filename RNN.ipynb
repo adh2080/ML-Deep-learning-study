{
  "nbformat": 4,
  "nbformat_minor": 0,
  "metadata": {
    "colab": {
      "name": "RNN",
      "provenance": [],
      "authorship_tag": "ABX9TyMkBxJ3htn8+lwsxUaWYF7y",
      "include_colab_link": true
    },
    "kernelspec": {
      "name": "python3",
      "display_name": "Python 3"
    },
    "language_info": {
      "name": "python"
    }
  },
  "cells": [
    {
      "cell_type": "markdown",
      "metadata": {
        "id": "view-in-github",
        "colab_type": "text"
      },
      "source": [
        "<a href=\"https://colab.research.google.com/github/adh2080/ML-deep-learning-study/blob/main/RNN.ipynb\" target=\"_parent\"><img src=\"https://colab.research.google.com/assets/colab-badge.svg\" alt=\"Open In Colab\"/></a>"
      ]
    },
    {
      "cell_type": "code",
      "metadata": {
        "colab": {
          "base_uri": "https://localhost:8080/"
        },
        "id": "0kojZwMQSKq2",
        "outputId": "fba55b17-977c-4007-e9df-24ea6cd06085"
      },
      "source": [
        "from tensorflow.keras.datasets import imdb\n",
        "(train_input, train_target), (test_input, test_target) = imdb.load_data(num_words=500)"
      ],
      "execution_count": 3,
      "outputs": [
        {
          "output_type": "stream",
          "text": [
            "<string>:6: VisibleDeprecationWarning: Creating an ndarray from ragged nested sequences (which is a list-or-tuple of lists-or-tuples-or ndarrays with different lengths or shapes) is deprecated. If you meant to do this, you must specify 'dtype=object' when creating the ndarray\n",
            "/usr/local/lib/python3.7/dist-packages/tensorflow/python/keras/datasets/imdb.py:155: VisibleDeprecationWarning: Creating an ndarray from ragged nested sequences (which is a list-or-tuple of lists-or-tuples-or ndarrays with different lengths or shapes) is deprecated. If you meant to do this, you must specify 'dtype=object' when creating the ndarray\n",
            "  x_train, y_train = np.array(xs[:idx]), np.array(labels[:idx])\n",
            "/usr/local/lib/python3.7/dist-packages/tensorflow/python/keras/datasets/imdb.py:156: VisibleDeprecationWarning: Creating an ndarray from ragged nested sequences (which is a list-or-tuple of lists-or-tuples-or ndarrays with different lengths or shapes) is deprecated. If you meant to do this, you must specify 'dtype=object' when creating the ndarray\n",
            "  x_test, y_test = np.array(xs[idx:]), np.array(labels[idx:])\n"
          ],
          "name": "stderr"
        }
      ]
    },
    {
      "cell_type": "code",
      "metadata": {
        "colab": {
          "base_uri": "https://localhost:8080/"
        },
        "id": "zficJjtHWMxM",
        "outputId": "c6608674-7377-4cd5-e05a-e986f6742984"
      },
      "source": [
        "print(train_input.shape, test_input.shape)"
      ],
      "execution_count": 4,
      "outputs": [
        {
          "output_type": "stream",
          "text": [
            "(25000,) (25000,)\n"
          ],
          "name": "stdout"
        }
      ]
    },
    {
      "cell_type": "code",
      "metadata": {
        "colab": {
          "base_uri": "https://localhost:8080/"
        },
        "id": "9MSusGpUWUmt",
        "outputId": "b8bdadc6-1094-4ea9-e077-47c6acd7d9a7"
      },
      "source": [
        "print(train_input[0])"
      ],
      "execution_count": 5,
      "outputs": [
        {
          "output_type": "stream",
          "text": [
            "[1, 14, 22, 16, 43, 2, 2, 2, 2, 65, 458, 2, 66, 2, 4, 173, 36, 256, 5, 25, 100, 43, 2, 112, 50, 2, 2, 9, 35, 480, 284, 5, 150, 4, 172, 112, 167, 2, 336, 385, 39, 4, 172, 2, 2, 17, 2, 38, 13, 447, 4, 192, 50, 16, 6, 147, 2, 19, 14, 22, 4, 2, 2, 469, 4, 22, 71, 87, 12, 16, 43, 2, 38, 76, 15, 13, 2, 4, 22, 17, 2, 17, 12, 16, 2, 18, 2, 5, 62, 386, 12, 8, 316, 8, 106, 5, 4, 2, 2, 16, 480, 66, 2, 33, 4, 130, 12, 16, 38, 2, 5, 25, 124, 51, 36, 135, 48, 25, 2, 33, 6, 22, 12, 215, 28, 77, 52, 5, 14, 407, 16, 82, 2, 8, 4, 107, 117, 2, 15, 256, 4, 2, 7, 2, 5, 2, 36, 71, 43, 2, 476, 26, 400, 317, 46, 7, 4, 2, 2, 13, 104, 88, 4, 381, 15, 297, 98, 32, 2, 56, 26, 141, 6, 194, 2, 18, 4, 226, 22, 21, 134, 476, 26, 480, 5, 144, 30, 2, 18, 51, 36, 28, 224, 92, 25, 104, 4, 226, 65, 16, 38, 2, 88, 12, 16, 283, 5, 16, 2, 113, 103, 32, 15, 16, 2, 19, 178, 32]\n"
          ],
          "name": "stdout"
        }
      ]
    },
    {
      "cell_type": "code",
      "metadata": {
        "id": "fKHDFbkoWp6T"
      },
      "source": [
        "from sklearn.model_selection import train_test_split\n",
        "train_input, val_input, train_target, val_target = train_test_split(train_input, train_target, test_size=0.2, random_state=42)"
      ],
      "execution_count": 6,
      "outputs": []
    },
    {
      "cell_type": "code",
      "metadata": {
        "id": "mAwkvDVHXAJ_"
      },
      "source": [
        "import numpy as np\n",
        "lengths = np.array([len(x) for x in train_input])"
      ],
      "execution_count": 7,
      "outputs": []
    },
    {
      "cell_type": "code",
      "metadata": {
        "colab": {
          "base_uri": "https://localhost:8080/"
        },
        "id": "0gWsHTRNfPvR",
        "outputId": "6169bada-a6f8-4c49-875d-d2172492c59b"
      },
      "source": [
        "print(np.mean(lengths), np.median(lengths))"
      ],
      "execution_count": 8,
      "outputs": [
        {
          "output_type": "stream",
          "text": [
            "239.00925 178.0\n"
          ],
          "name": "stdout"
        }
      ]
    },
    {
      "cell_type": "code",
      "metadata": {
        "colab": {
          "base_uri": "https://localhost:8080/",
          "height": 279
        },
        "id": "5089FpAyfUeK",
        "outputId": "d79ab1d7-733a-4cec-d772-817468725881"
      },
      "source": [
        "import matplotlib.pyplot as plt\n",
        "plt.hist(lengths)\n",
        "plt.xlabel('length')\n",
        "plt.ylabel('frequency')\n",
        "plt.show()"
      ],
      "execution_count": 9,
      "outputs": [
        {
          "output_type": "display_data",
          "data": {
            "image/png": "[encoded data removed]",
            "text/plain": [
              "<Figure size 432x288 with 1 Axes>"
            ]
          },
          "metadata": {
            "tags": [],
            "needs_background": "light"
          }
        }
      ]
    },
    {
      "cell_type": "code",
      "metadata": {
        "id": "fmKqATrDfk8c"
      },
      "source": [
        "from tensorflow.keras.preprocessing.sequence import pad_sequences\n",
        "train_seq = pad_sequences(train_input, maxlen=100)\n",
        "val_seq = pad_sequences(val_input, maxlen =100)"
      ],
      "execution_count": 10,
      "outputs": []
    },
    {
      "cell_type": "code",
      "metadata": {
        "colab": {
          "base_uri": "https://localhost:8080/"
        },
        "id": "CNk67q0Xf6Kg",
        "outputId": "d88cdee6-6b0c-46f3-9b34-b32627a9c312"
      },
      "source": [
        "print(train_seq.shape)"
      ],
      "execution_count": 11,
      "outputs": [
        {
          "output_type": "stream",
          "text": [
            "(20000, 100)\n"
          ],
          "name": "stdout"
        }
      ]
    },
    {
      "cell_type": "code",
      "metadata": {
        "colab": {
          "base_uri": "https://localhost:8080/"
        },
        "id": "GcmtOHFbf9NU",
        "outputId": "edc34e83-bc87-4ed3-e5a8-ccd90a8ecf12"
      },
      "source": [
        "print(len(train_input[5]))"
      ],
      "execution_count": 12,
      "outputs": [
        {
          "output_type": "stream",
          "text": [
            "96\n"
          ],
          "name": "stdout"
        }
      ]
    },
    {
      "cell_type": "code",
      "metadata": {
        "id": "ZKV2Ku2XgopW"
      },
      "source": [
        "from tensorflow import keras\n",
        "model = keras.Sequential()\n",
        "model.add(keras.layers.SimpleRNN(8, input_shape=(100,500)))\n",
        "model.add(keras.layers.Dense(1, activation='sigmoid'))"
      ],
      "execution_count": 13,
      "outputs": []
    },
    {
      "cell_type": "code",
      "metadata": {
        "colab": {
          "base_uri": "https://localhost:8080/"
        },
        "id": "KqM-x6fKjsKN",
        "outputId": "5cb9cb9c-fb40-46e9-fc73-04389806cdf8"
      },
      "source": [
        "train_oh = keras.utils.to_categorical(train_seq)\n",
        "print(train_oh.shape)"
      ],
      "execution_count": 14,
      "outputs": [
        {
          "output_type": "stream",
          "text": [
            "(20000, 100, 500)\n"
          ],
          "name": "stdout"
        }
      ]
    },
    {
      "cell_type": "code",
      "metadata": {
        "id": "2FHkLjgCknXX"
      },
      "source": [
        "val_oh = keras.utils.to_categorical(val_seq)"
      ],
      "execution_count": 15,
      "outputs": []
    },
    {
      "cell_type": "code",
      "metadata": {
        "colab": {
          "base_uri": "https://localhost:8080/"
        },
        "id": "r1HefIl2lJq1",
        "outputId": "692ee0cb-cf25-4415-8cbd-184d77e7fa6a"
      },
      "source": [
        "model.summary()"
      ],
      "execution_count": 16,
      "outputs": [
        {
          "output_type": "stream",
          "text": [
            "Model: \"sequential_1\"\n",
            "_________________________________________________________________\n",
            "Layer (type)                 Output Shape              Param #   \n",
            "=================================================================\n",
            "simple_rnn_1 (SimpleRNN)     (None, 8)                 4072      \n",
            "_________________________________________________________________\n",
            "dense_1 (Dense)              (None, 1)                 9         \n",
            "=================================================================\n",
            "Total params: 4,081\n",
            "Trainable params: 4,081\n",
            "Non-trainable params: 0\n",
            "_________________________________________________________________\n"
          ],
          "name": "stdout"
        }
      ]
    },
    {
      "cell_type": "code",
      "metadata": {
        "colab": {
          "base_uri": "https://localhost:8080/"
        },
        "id": "rDiJqv2QlaLq",
        "outputId": "c19edd1b-5cc8-4511-ebdb-f5d6e51124e2"
      },
      "source": [
        "rmsprop = keras.optimizers.RMSprop(learning_rate=1e-4)\n",
        "model.compile(optimizer=rmsprop, loss='binary_crossentropy', \n",
        "              metrics=['accuracy'])\n",
        "checkpoint_cb = keras.callbacks.ModelCheckpoint('best-simplernn-model.h5')\n",
        "early_stopping_cb = keras.callbacks.EarlyStopping(patience=3, restore_best_weights=True)\n",
        "\n",
        "history = model.fit(train_oh, train_target, epochs=100, batch_size=64, validation_data=(val_oh, val_target), callbacks=[checkpoint_cb, early_stopping_cb])"
      ],
      "execution_count": 22,
      "outputs": [
        {
          "output_type": "stream",
          "text": [
            "Epoch 1/100\n",
            "313/313 [==============================] - 13s 37ms/step - loss: 0.6965 - accuracy: 0.5106 - val_loss: 0.6952 - val_accuracy: 0.5098\n",
            "Epoch 2/100\n",
            "313/313 [==============================] - 11s 36ms/step - loss: 0.6926 - accuracy: 0.5217 - val_loss: 0.6925 - val_accuracy: 0.5178\n",
            "Epoch 3/100\n",
            "313/313 [==============================] - 11s 36ms/step - loss: 0.6898 - accuracy: 0.5328 - val_loss: 0.6905 - val_accuracy: 0.5256\n",
            "Epoch 4/100\n",
            "313/313 [==============================] - 11s 36ms/step - loss: 0.6873 - accuracy: 0.5436 - val_loss: 0.6884 - val_accuracy: 0.5370\n",
            "Epoch 5/100\n",
            "313/313 [==============================] - 11s 36ms/step - loss: 0.6846 - accuracy: 0.5541 - val_loss: 0.6862 - val_accuracy: 0.5410\n",
            "Epoch 6/100\n",
            "313/313 [==============================] - 11s 36ms/step - loss: 0.6815 - accuracy: 0.5647 - val_loss: 0.6832 - val_accuracy: 0.5524\n",
            "Epoch 7/100\n",
            "313/313 [==============================] - 11s 36ms/step - loss: 0.6770 - accuracy: 0.5824 - val_loss: 0.6776 - val_accuracy: 0.5746\n",
            "Epoch 8/100\n",
            "313/313 [==============================] - 11s 36ms/step - loss: 0.6656 - accuracy: 0.6096 - val_loss: 0.6529 - val_accuracy: 0.6332\n",
            "Epoch 9/100\n",
            "313/313 [==============================] - 11s 36ms/step - loss: 0.6360 - accuracy: 0.6495 - val_loss: 0.6322 - val_accuracy: 0.6508\n",
            "Epoch 10/100\n",
            "313/313 [==============================] - 11s 36ms/step - loss: 0.6177 - accuracy: 0.6773 - val_loss: 0.6152 - val_accuracy: 0.6824\n",
            "Epoch 11/100\n",
            "313/313 [==============================] - 11s 36ms/step - loss: 0.6020 - accuracy: 0.6952 - val_loss: 0.5993 - val_accuracy: 0.7016\n",
            "Epoch 12/100\n",
            "313/313 [==============================] - 11s 36ms/step - loss: 0.5857 - accuracy: 0.7134 - val_loss: 0.5873 - val_accuracy: 0.7134\n",
            "Epoch 13/100\n",
            "313/313 [==============================] - 11s 36ms/step - loss: 0.5725 - accuracy: 0.7247 - val_loss: 0.5752 - val_accuracy: 0.7172\n",
            "Epoch 14/100\n",
            "313/313 [==============================] - 11s 36ms/step - loss: 0.5620 - accuracy: 0.7325 - val_loss: 0.5642 - val_accuracy: 0.7292\n",
            "Epoch 15/100\n",
            "313/313 [==============================] - 11s 36ms/step - loss: 0.5503 - accuracy: 0.7444 - val_loss: 0.5557 - val_accuracy: 0.7364\n",
            "Epoch 16/100\n",
            "313/313 [==============================] - 11s 36ms/step - loss: 0.5400 - accuracy: 0.7504 - val_loss: 0.5466 - val_accuracy: 0.7410\n",
            "Epoch 17/100\n",
            "313/313 [==============================] - 11s 36ms/step - loss: 0.5302 - accuracy: 0.7578 - val_loss: 0.5397 - val_accuracy: 0.7402\n",
            "Epoch 18/100\n",
            "313/313 [==============================] - 11s 36ms/step - loss: 0.5205 - accuracy: 0.7627 - val_loss: 0.5288 - val_accuracy: 0.7532\n",
            "Epoch 19/100\n",
            "313/313 [==============================] - 11s 36ms/step - loss: 0.5122 - accuracy: 0.7684 - val_loss: 0.5210 - val_accuracy: 0.7586\n",
            "Epoch 20/100\n",
            "313/313 [==============================] - 11s 36ms/step - loss: 0.5033 - accuracy: 0.7750 - val_loss: 0.5137 - val_accuracy: 0.7610\n",
            "Epoch 21/100\n",
            "313/313 [==============================] - 11s 36ms/step - loss: 0.4948 - accuracy: 0.7789 - val_loss: 0.5110 - val_accuracy: 0.7602\n",
            "Epoch 22/100\n",
            "313/313 [==============================] - 11s 36ms/step - loss: 0.4880 - accuracy: 0.7828 - val_loss: 0.5002 - val_accuracy: 0.7722\n",
            "Epoch 23/100\n",
            "313/313 [==============================] - 11s 36ms/step - loss: 0.4808 - accuracy: 0.7872 - val_loss: 0.4962 - val_accuracy: 0.7706\n",
            "Epoch 24/100\n",
            "313/313 [==============================] - 11s 36ms/step - loss: 0.4742 - accuracy: 0.7903 - val_loss: 0.4938 - val_accuracy: 0.7700\n",
            "Epoch 25/100\n",
            "313/313 [==============================] - 11s 37ms/step - loss: 0.4683 - accuracy: 0.7929 - val_loss: 0.4856 - val_accuracy: 0.7770\n",
            "Epoch 26/100\n",
            "313/313 [==============================] - 11s 36ms/step - loss: 0.4624 - accuracy: 0.7958 - val_loss: 0.4805 - val_accuracy: 0.7788\n",
            "Epoch 27/100\n",
            "313/313 [==============================] - 11s 36ms/step - loss: 0.4573 - accuracy: 0.8000 - val_loss: 0.4762 - val_accuracy: 0.7784\n",
            "Epoch 28/100\n",
            "313/313 [==============================] - 11s 36ms/step - loss: 0.4519 - accuracy: 0.8015 - val_loss: 0.4746 - val_accuracy: 0.7818\n",
            "Epoch 29/100\n",
            "313/313 [==============================] - 11s 36ms/step - loss: 0.4478 - accuracy: 0.8034 - val_loss: 0.4709 - val_accuracy: 0.7816\n",
            "Epoch 30/100\n",
            "313/313 [==============================] - 11s 36ms/step - loss: 0.4436 - accuracy: 0.8054 - val_loss: 0.4674 - val_accuracy: 0.7830\n",
            "Epoch 31/100\n",
            "313/313 [==============================] - 11s 36ms/step - loss: 0.4398 - accuracy: 0.8077 - val_loss: 0.4654 - val_accuracy: 0.7826\n",
            "Epoch 32/100\n",
            "313/313 [==============================] - 11s 36ms/step - loss: 0.4364 - accuracy: 0.8091 - val_loss: 0.4644 - val_accuracy: 0.7842\n",
            "Epoch 33/100\n",
            "313/313 [==============================] - 11s 36ms/step - loss: 0.4331 - accuracy: 0.8115 - val_loss: 0.4628 - val_accuracy: 0.7854\n",
            "Epoch 34/100\n",
            "313/313 [==============================] - 11s 36ms/step - loss: 0.4297 - accuracy: 0.8131 - val_loss: 0.4654 - val_accuracy: 0.7826\n",
            "Epoch 35/100\n",
            "313/313 [==============================] - 11s 36ms/step - loss: 0.4266 - accuracy: 0.8131 - val_loss: 0.4586 - val_accuracy: 0.7868\n",
            "Epoch 36/100\n",
            "313/313 [==============================] - 11s 36ms/step - loss: 0.4239 - accuracy: 0.8137 - val_loss: 0.4594 - val_accuracy: 0.7874\n",
            "Epoch 37/100\n",
            "313/313 [==============================] - 11s 36ms/step - loss: 0.4216 - accuracy: 0.8150 - val_loss: 0.4563 - val_accuracy: 0.7886\n",
            "Epoch 38/100\n",
            "313/313 [==============================] - 11s 36ms/step - loss: 0.4197 - accuracy: 0.8157 - val_loss: 0.4575 - val_accuracy: 0.7850\n",
            "Epoch 39/100\n",
            "313/313 [==============================] - 11s 36ms/step - loss: 0.4177 - accuracy: 0.8174 - val_loss: 0.4567 - val_accuracy: 0.7852\n",
            "Epoch 40/100\n",
            "313/313 [==============================] - 11s 36ms/step - loss: 0.4150 - accuracy: 0.8176 - val_loss: 0.4547 - val_accuracy: 0.7896\n",
            "Epoch 41/100\n",
            "313/313 [==============================] - 11s 36ms/step - loss: 0.4132 - accuracy: 0.8197 - val_loss: 0.4556 - val_accuracy: 0.7884\n",
            "Epoch 42/100\n",
            "313/313 [==============================] - 11s 36ms/step - loss: 0.4112 - accuracy: 0.8184 - val_loss: 0.4544 - val_accuracy: 0.7916\n",
            "Epoch 43/100\n",
            "313/313 [==============================] - 11s 36ms/step - loss: 0.4095 - accuracy: 0.8206 - val_loss: 0.4512 - val_accuracy: 0.7910\n",
            "Epoch 44/100\n",
            "313/313 [==============================] - 11s 36ms/step - loss: 0.4078 - accuracy: 0.8216 - val_loss: 0.4505 - val_accuracy: 0.7916\n",
            "Epoch 45/100\n",
            "313/313 [==============================] - 11s 36ms/step - loss: 0.4059 - accuracy: 0.8215 - val_loss: 0.4570 - val_accuracy: 0.7858\n",
            "Epoch 46/100\n",
            "313/313 [==============================] - 11s 36ms/step - loss: 0.4040 - accuracy: 0.8224 - val_loss: 0.4527 - val_accuracy: 0.7924\n",
            "Epoch 47/100\n",
            "313/313 [==============================] - 11s 36ms/step - loss: 0.4029 - accuracy: 0.8239 - val_loss: 0.4545 - val_accuracy: 0.7898\n"
          ],
          "name": "stdout"
        }
      ]
    },
    {
      "cell_type": "code",
      "metadata": {
        "colab": {
          "base_uri": "https://localhost:8080/",
          "height": 279
        },
        "id": "mZkvUUxFmlOp",
        "outputId": "416a57fc-1a84-42fb-ddc5-bcb93f6da533"
      },
      "source": [
        "plt.plot(history.history['loss'])\n",
        "plt.plot(history.history['val_loss'])\n",
        "plt.xlabel('epoch')\n",
        "plt.ylabel('loss')\n",
        "plt.legend(['train', 'val'])\n",
        "plt.show()"
      ],
      "execution_count": 23,
      "outputs": [
        {
          "output_type": "display_data",
          "data": {
            "image/png": "[encoded data removed]",
            "text/plain": [
              "<Figure size 432x288 with 1 Axes>"
            ]
          },
          "metadata": {
            "tags": [],
            "needs_background": "light"
          }
        }
      ]
    },
    {
      "cell_type": "markdown",
      "metadata": {
        "id": "PYnOuBF4wNkc"
      },
      "source": [
        "# 단어 임베딩"
      ]
    },
    {
      "cell_type": "code",
      "metadata": {
        "id": "RuK5pvvauAC_"
      },
      "source": [
        "model2 = keras.Sequential()\n",
        "model2.add(keras.layers.Embedding(500,16,input_length=100))\n",
        "model2.add(keras.layers.SimpleRNN(8))\n",
        "model2.add(keras.layers.Dense(1, activation='sigmoid'))"
      ],
      "execution_count": 43,
      "outputs": []
    },
    {
      "cell_type": "code",
      "metadata": {
        "colab": {
          "base_uri": "https://localhost:8080/"
        },
        "id": "tKUCtp0VuyXC",
        "outputId": "f9d0a7bb-d79c-46cd-8bab-84325c1f8981"
      },
      "source": [
        "model2.summary()"
      ],
      "execution_count": 44,
      "outputs": [
        {
          "output_type": "stream",
          "text": [
            "Model: \"sequential_7\"\n",
            "_________________________________________________________________\n",
            "Layer (type)                 Output Shape              Param #   \n",
            "=================================================================\n",
            "embedding_5 (Embedding)      (None, 100, 16)           8000      \n",
            "_________________________________________________________________\n",
            "simple_rnn_7 (SimpleRNN)     (None, 8)                 200       \n",
            "_________________________________________________________________\n",
            "dense_7 (Dense)              (None, 1)                 9         \n",
            "=================================================================\n",
            "Total params: 8,209\n",
            "Trainable params: 8,209\n",
            "Non-trainable params: 0\n",
            "_________________________________________________________________\n"
          ],
          "name": "stdout"
        }
      ]
    },
    {
      "cell_type": "code",
      "metadata": {
        "colab": {
          "base_uri": "https://localhost:8080/"
        },
        "id": "7vyvyi6huz74",
        "outputId": "1b7145cc-06cb-48f7-efad-744ed980ee25"
      },
      "source": [
        "rmsprop = keras.optimizers.RMSprop(learning_rate=1e-4)\n",
        "model2.compile(optimizer=rmsprop, loss='binary_crossentropy', \n",
        "              metrics=['accuracy'])\n",
        "checkpoint_cb = keras.callbacks.ModelCheckpoint('best-embedding-model.h5')\n",
        "early_stopping_cb = keras.callbacks.EarlyStopping(patience=3, restore_best_weights=True)\n",
        "\n",
        "history = model2.fit(train_seq, train_target, epochs=100, batch_size=64, validation_data=(val_seq, val_target), callbacks=[checkpoint_cb, early_stopping_cb])"
      ],
      "execution_count": 45,
      "outputs": [
        {
          "output_type": "stream",
          "text": [
            "Epoch 1/100\n",
            "313/313 [==============================] - 11s 20ms/step - loss: 0.6780 - accuracy: 0.5743 - val_loss: 0.6639 - val_accuracy: 0.6142\n",
            "Epoch 2/100\n",
            "313/313 [==============================] - 6s 19ms/step - loss: 0.6433 - accuracy: 0.6604 - val_loss: 0.6316 - val_accuracy: 0.6848\n",
            "Epoch 3/100\n",
            "313/313 [==============================] - 6s 19ms/step - loss: 0.6126 - accuracy: 0.7114 - val_loss: 0.6070 - val_accuracy: 0.7124\n",
            "Epoch 4/100\n",
            "313/313 [==============================] - 6s 19ms/step - loss: 0.5883 - accuracy: 0.7357 - val_loss: 0.5855 - val_accuracy: 0.7386\n",
            "Epoch 5/100\n",
            "313/313 [==============================] - 6s 19ms/step - loss: 0.5671 - accuracy: 0.7525 - val_loss: 0.5673 - val_accuracy: 0.7452\n",
            "Epoch 6/100\n",
            "313/313 [==============================] - 6s 19ms/step - loss: 0.5478 - accuracy: 0.7649 - val_loss: 0.5530 - val_accuracy: 0.7532\n",
            "Epoch 7/100\n",
            "313/313 [==============================] - 6s 19ms/step - loss: 0.5314 - accuracy: 0.7735 - val_loss: 0.5389 - val_accuracy: 0.7620\n",
            "Epoch 8/100\n",
            "313/313 [==============================] - 6s 20ms/step - loss: 0.5167 - accuracy: 0.7783 - val_loss: 0.5264 - val_accuracy: 0.7708\n",
            "Epoch 9/100\n",
            "313/313 [==============================] - 6s 19ms/step - loss: 0.5027 - accuracy: 0.7868 - val_loss: 0.5165 - val_accuracy: 0.7772\n",
            "Epoch 10/100\n",
            "313/313 [==============================] - 6s 19ms/step - loss: 0.4904 - accuracy: 0.7928 - val_loss: 0.5098 - val_accuracy: 0.7678\n",
            "Epoch 11/100\n",
            "313/313 [==============================] - 6s 19ms/step - loss: 0.4783 - accuracy: 0.7962 - val_loss: 0.4984 - val_accuracy: 0.7788\n",
            "Epoch 12/100\n",
            "313/313 [==============================] - 6s 19ms/step - loss: 0.4679 - accuracy: 0.8004 - val_loss: 0.4908 - val_accuracy: 0.7780\n",
            "Epoch 13/100\n",
            "313/313 [==============================] - 6s 19ms/step - loss: 0.4589 - accuracy: 0.8052 - val_loss: 0.4856 - val_accuracy: 0.7802\n",
            "Epoch 14/100\n",
            "313/313 [==============================] - 6s 19ms/step - loss: 0.4501 - accuracy: 0.8101 - val_loss: 0.4814 - val_accuracy: 0.7834\n",
            "Epoch 15/100\n",
            "313/313 [==============================] - 6s 19ms/step - loss: 0.4424 - accuracy: 0.8127 - val_loss: 0.4753 - val_accuracy: 0.7876\n",
            "Epoch 16/100\n",
            "313/313 [==============================] - 6s 19ms/step - loss: 0.4357 - accuracy: 0.8148 - val_loss: 0.4721 - val_accuracy: 0.7900\n",
            "Epoch 17/100\n",
            "313/313 [==============================] - 6s 19ms/step - loss: 0.4295 - accuracy: 0.8170 - val_loss: 0.4699 - val_accuracy: 0.7854\n",
            "Epoch 18/100\n",
            "313/313 [==============================] - 6s 19ms/step - loss: 0.4242 - accuracy: 0.8181 - val_loss: 0.4681 - val_accuracy: 0.7872\n",
            "Epoch 19/100\n",
            "313/313 [==============================] - 6s 18ms/step - loss: 0.4190 - accuracy: 0.8207 - val_loss: 0.4683 - val_accuracy: 0.7834\n",
            "Epoch 20/100\n",
            "313/313 [==============================] - 6s 19ms/step - loss: 0.4147 - accuracy: 0.8217 - val_loss: 0.4668 - val_accuracy: 0.7846\n",
            "Epoch 21/100\n",
            "313/313 [==============================] - 6s 19ms/step - loss: 0.4109 - accuracy: 0.8224 - val_loss: 0.4649 - val_accuracy: 0.7854\n",
            "Epoch 22/100\n",
            "313/313 [==============================] - 6s 19ms/step - loss: 0.4071 - accuracy: 0.8244 - val_loss: 0.4651 - val_accuracy: 0.7850\n",
            "Epoch 23/100\n",
            "313/313 [==============================] - 6s 19ms/step - loss: 0.4047 - accuracy: 0.8262 - val_loss: 0.4638 - val_accuracy: 0.7840\n",
            "Epoch 24/100\n",
            "313/313 [==============================] - 6s 19ms/step - loss: 0.4015 - accuracy: 0.8264 - val_loss: 0.4634 - val_accuracy: 0.7858\n",
            "Epoch 25/100\n",
            "313/313 [==============================] - 6s 19ms/step - loss: 0.3991 - accuracy: 0.8278 - val_loss: 0.4642 - val_accuracy: 0.7872\n",
            "Epoch 26/100\n",
            "313/313 [==============================] - 6s 19ms/step - loss: 0.3967 - accuracy: 0.8292 - val_loss: 0.4665 - val_accuracy: 0.7826\n",
            "Epoch 27/100\n",
            "313/313 [==============================] - 6s 19ms/step - loss: 0.3944 - accuracy: 0.8299 - val_loss: 0.4658 - val_accuracy: 0.7866\n"
          ],
          "name": "stdout"
        }
      ]
    },
    {
      "cell_type": "code",
      "metadata": {
        "colab": {
          "base_uri": "https://localhost:8080/",
          "height": 279
        },
        "id": "Jta2NGzovOIC",
        "outputId": "9994aed3-6dee-4e6b-dfbd-020519e52d77"
      },
      "source": [
        "plt.plot(history.history['loss'])\n",
        "plt.plot(history.history['val_loss'])\n",
        "plt.xlabel('epoch')\n",
        "plt.ylabel('loss')\n",
        "plt.legend(['train', 'val'])\n",
        "plt.show()"
      ],
      "execution_count": 46,
      "outputs": [
        {
          "output_type": "display_data",
          "data": {
            "image/png": "[encoded data removed]",
            "text/plain": [
              "<Figure size 432x288 with 1 Axes>"
            ]
          },
          "metadata": {
            "tags": [],
            "needs_background": "light"
          }
        }
      ]
    },
    {
      "cell_type": "code",
      "metadata": {
        "id": "2yXZ96AIxnzx"
      },
      "source": [
        ""
      ],
      "execution_count": null,
      "outputs": []
    }
  ]
}